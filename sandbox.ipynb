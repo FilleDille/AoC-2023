{
 "cells": [
  {
   "cell_type": "code",
   "execution_count": 4,
   "id": "initial_id",
   "metadata": {
    "collapsed": true,
    "ExecuteTime": {
     "end_time": "2023-12-01T06:11:29.111007Z",
     "start_time": "2023-12-01T06:11:29.008800Z"
    }
   },
   "outputs": [
    {
     "data": {
      "text/plain": "57"
     },
     "execution_count": 4,
     "metadata": {},
     "output_type": "execute_result"
    }
   ],
   "source": [
    "ord('9')"
   ]
  },
  {
   "cell_type": "code",
   "execution_count": 5,
   "outputs": [
    {
     "data": {
      "text/plain": "'@'"
     },
     "execution_count": 5,
     "metadata": {},
     "output_type": "execute_result"
    }
   ],
   "source": [
    "chr(64)"
   ],
   "metadata": {
    "collapsed": false,
    "ExecuteTime": {
     "end_time": "2023-12-01T06:11:41.138747Z",
     "start_time": "2023-12-01T06:11:40.910099Z"
    }
   },
   "id": "407f9852e2a92b3c"
  },
  {
   "cell_type": "code",
   "execution_count": 6,
   "outputs": [],
   "source": [
    "import re"
   ],
   "metadata": {
    "collapsed": false,
    "ExecuteTime": {
     "end_time": "2023-12-01T06:12:38.796587Z",
     "start_time": "2023-12-01T06:12:38.757345Z"
    }
   },
   "id": "13ffa535aff281a5"
  },
  {
   "cell_type": "code",
   "execution_count": 14,
   "outputs": [],
   "source": [
    "x = re.findall('[0-9]', 'asd2dsa3')"
   ],
   "metadata": {
    "collapsed": false,
    "ExecuteTime": {
     "end_time": "2023-12-01T06:16:36.578753Z",
     "start_time": "2023-12-01T06:16:36.571966Z"
    }
   },
   "id": "10ad85be28e38c5b"
  },
  {
   "cell_type": "code",
   "execution_count": 15,
   "outputs": [
    {
     "data": {
      "text/plain": "'23'"
     },
     "execution_count": 15,
     "metadata": {},
     "output_type": "execute_result"
    }
   ],
   "source": [
    "''.join(x)"
   ],
   "metadata": {
    "collapsed": false,
    "ExecuteTime": {
     "end_time": "2023-12-01T06:16:57.876922Z",
     "start_time": "2023-12-01T06:16:57.819437Z"
    }
   },
   "id": "657dc57d5016dfc5"
  },
  {
   "cell_type": "code",
   "execution_count": 87,
   "outputs": [
    {
     "ename": "TypeError",
     "evalue": "'dict_values' object is not subscriptable",
     "output_type": "error",
     "traceback": [
      "\u001B[0;31m---------------------------------------------------------------------------\u001B[0m",
      "\u001B[0;31mTypeError\u001B[0m                                 Traceback (most recent call last)",
      "Cell \u001B[0;32mIn[87], line 11\u001B[0m\n\u001B[1;32m      8\u001B[0m     span_dict[keyword] \u001B[38;5;241m=\u001B[39m (start_pos, start_pos \u001B[38;5;241m+\u001B[39m \u001B[38;5;28mlen\u001B[39m(keyword) \u001B[38;5;241m-\u001B[39m \u001B[38;5;241m1\u001B[39m)\n\u001B[1;32m     10\u001B[0m \u001B[38;5;28;01mfor\u001B[39;00m i \u001B[38;5;129;01min\u001B[39;00m \u001B[38;5;28mrange\u001B[39m(\u001B[38;5;28mlen\u001B[39m(span_dict\u001B[38;5;241m.\u001B[39mvalues()) \u001B[38;5;241m-\u001B[39m \u001B[38;5;241m1\u001B[39m):\n\u001B[0;32m---> 11\u001B[0m     \u001B[38;5;28;01mif\u001B[39;00m \u001B[43mspan_dict\u001B[49m\u001B[38;5;241;43m.\u001B[39;49m\u001B[43mvalues\u001B[49m\u001B[43m(\u001B[49m\u001B[43m)\u001B[49m\u001B[43m[\u001B[49m\u001B[43mi\u001B[49m\u001B[43m]\u001B[49m[\u001B[38;5;241m1\u001B[39m] \u001B[38;5;241m>\u001B[39m\u001B[38;5;241m=\u001B[39m span_dict\u001B[38;5;241m.\u001B[39mvalues()[i \u001B[38;5;241m+\u001B[39m \u001B[38;5;241m1\u001B[39m][\u001B[38;5;241m0\u001B[39m]:\n\u001B[1;32m     12\u001B[0m         \u001B[38;5;28mprint\u001B[39m(i)\n",
      "\u001B[0;31mTypeError\u001B[0m: 'dict_values' object is not subscriptable"
     ]
    }
   ],
   "source": [
    "pattern = r'(?=(one|two))'\n",
    "regex_search = re.finditer(pattern, 'hejtwonetwo')\n",
    "span_dict = {}\n",
    "\n",
    "for found_match in regex_search:\n",
    "    keyword = found_match.group(1)\n",
    "    start_pos = found_match.start()\n",
    "    span_dict[keyword] = (start_pos, start_pos + len(keyword) - 1)\n",
    "\n",
    "for i in range(len(span_dict.values()) - 1):\n",
    "    if span_dict.values()[i][1] >= span_dict.values()[i + 1][0]:\n",
    "        print(i)\n"
   ],
   "metadata": {
    "collapsed": false,
    "ExecuteTime": {
     "end_time": "2023-12-01T07:35:34.117901Z",
     "start_time": "2023-12-01T07:35:34.111885Z"
    }
   },
   "id": "3de46dbd3c7c4a8b"
  },
  {
   "cell_type": "code",
   "execution_count": 81,
   "outputs": [
    {
     "data": {
      "text/plain": "[(3, 5), (5, 7), (8, 10)]"
     },
     "execution_count": 81,
     "metadata": {},
     "output_type": "execute_result"
    }
   ],
   "source": [
    "span_list\n"
   ],
   "metadata": {
    "collapsed": false,
    "ExecuteTime": {
     "end_time": "2023-12-01T07:30:16.252087Z",
     "start_time": "2023-12-01T07:30:16.242479Z"
    }
   },
   "id": "a1d000f5eeb3ed78"
  },
  {
   "cell_type": "code",
   "execution_count": 50,
   "outputs": [],
   "source": [],
   "metadata": {
    "collapsed": false,
    "ExecuteTime": {
     "end_time": "2023-12-01T07:22:00.239338Z",
     "start_time": "2023-12-01T07:22:00.229863Z"
    }
   },
   "id": "24c4fc0e1348228e"
  },
  {
   "cell_type": "code",
   "execution_count": 60,
   "outputs": [
    {
     "data": {
      "text/plain": "<callable_iterator at 0x10fcf6ad0>"
     },
     "execution_count": 60,
     "metadata": {},
     "output_type": "execute_result"
    }
   ],
   "source": [],
   "metadata": {
    "collapsed": false,
    "ExecuteTime": {
     "end_time": "2023-12-01T07:24:42.169084Z",
     "start_time": "2023-12-01T07:24:42.141883Z"
    }
   },
   "id": "fffdb7cf515e5557"
  },
  {
   "cell_type": "code",
   "execution_count": null,
   "outputs": [],
   "source": [],
   "metadata": {
    "collapsed": false
   },
   "id": "22036d3cccd429ff"
  }
 ],
 "metadata": {
  "kernelspec": {
   "display_name": "Python 3",
   "language": "python",
   "name": "python3"
  },
  "language_info": {
   "codemirror_mode": {
    "name": "ipython",
    "version": 2
   },
   "file_extension": ".py",
   "mimetype": "text/x-python",
   "name": "python",
   "nbconvert_exporter": "python",
   "pygments_lexer": "ipython2",
   "version": "2.7.6"
  }
 },
 "nbformat": 4,
 "nbformat_minor": 5
}
